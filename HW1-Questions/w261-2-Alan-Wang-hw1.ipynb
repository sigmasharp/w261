{
 "cells": [
  {
   "cell_type": "markdown",
   "metadata": {},
   "source": [
    "###HW1.0.0. Define big data. Provide an example of a big data problem in your domain of expertise. \n",
    "\n",
    "Big data is a general term for data (sets) either so large or so complex that conventional data processing applications (RMDB etc) are caught short. In machine learning considerations, this term often focus the use of predictive analytics or certain other advanced methods to extract value or learn from generally complex data sets (in volume, volecity, variety, variability, veracity, visulization and value).\n",
    "\n",
    "(For an adnet company I worked for.) As a 300+MM banner-ad-requests+/day ad network company, we were facing a typical big data problem for all volume, velocity and variety considerations.  Since the 'problem' graduately developed through out a 12+ year period of time, we ended up with a more traditional solution (co-lo of clusters of 100+ top-of-the-line servers just for the front end requests with 2 hardware load balancer.)  Eventually, we used Hadoop/Pig for the preliminary analyitics.  (By the time I left in 2012).\n",
    "\n",
    "###HW1.0.1.In 500 words (English or pseudo code or a combination) describe how to estimate the bias, the variance, the irreduciable error for a test dataset T when using polynomial regression models of degree 1, 2,3, 4,5 are considered. How would you select a model?\n",
    "\n",
    "First bias is the difference between the expected predicted value and the actual value, or E[y*]−f(x*), the variance is the expected squared sum of the difference between the predicted value and the expected predicted value, or E[(y*−E[y*])^2], and the irreducible error (noice) is simply the expected squared sume of the difference between the predicted value and the actual value, or E[(y*−f(x*))^2]=E[ε2]=σ^2, which will always be there regardless of the bias and variance pan out.  When usig polynomial regression models of degree 1 to 5 for a complex problem dataset, then, the lower the degree (toward 1), the bigger  the bias would be, and the smaller the variance [less accurate for tested data but less sensitive to variety of new test data, or underfitting].  On the other hand, the higher the degree (toward 5), the smaller the bias, at the cost of a bigger variance [more accurate for tested data but more sensity to new test data, or overfitting].\n",
    "\n"
   ]
  }
 ],
 "metadata": {
  "kernelspec": {
   "display_name": "Python 2",
   "language": "python",
   "name": "python2"
  },
  "language_info": {
   "codemirror_mode": {
    "name": "ipython",
    "version": 2
   },
   "file_extension": ".py",
   "mimetype": "text/x-python",
   "name": "python",
   "nbconvert_exporter": "python",
   "pygments_lexer": "ipython2",
   "version": "2.7.10"
  }
 },
 "nbformat": 4,
 "nbformat_minor": 0
}
